{
 "cells": [
  {
   "cell_type": "code",
   "execution_count": 7,
   "metadata": {},
   "outputs": [
    {
     "name": "stdout",
     "output_type": "stream",
     "text": [
      "The autoreload extension is already loaded. To reload it, use:\n",
      "  %reload_ext autoreload\n"
     ]
    }
   ],
   "source": [
    "# Some useful settings for interactive work\n",
    "%load_ext autoreload\n",
    "%autoreload 2\n",
    "\n",
    "%matplotlib widget"
   ]
  },
  {
   "cell_type": "code",
   "execution_count": 8,
   "metadata": {},
   "outputs": [],
   "source": [
    "# Import the relevant modules\n",
    "import sousvide.synthesize.rollout_generator as rg\n",
    "import sousvide.synthesize.observation_generator as og\n",
    "import sousvide.instruct.train_policy as tp\n",
    "import sousvide.visualize.plot_synthesize as ps\n",
    "import sousvide.visualize.plot_learning as pl\n",
    "\n",
    "from figs.simulator import Simulator\n",
    "from sousvide.control.pilot import Pilot"
   ]
  },
  {
   "cell_type": "code",
   "execution_count": 9,
   "metadata": {},
   "outputs": [],
   "source": [
    "# FiGS examples (scene_name, frame_name, policy_name, course_name)\n",
    "flights = [\n",
    "    ('mid_gate', 'carl', 'vrmpc_fr' 'robustness_track'),\n",
    "    ]\n",
    "\n",
    "roster = [\n",
    "    \"Viper\",\n",
    "    \"Maverick\",\n",
    "    \"Iceman\",\n",
    "    \"Hollywood\",\n",
    "    \"Cougar\"\n",
    "    ]\n",
    "\n",
    "drone = \"carl\"\n",
    "method = \"beta\"\n",
    "cohort = \"robustness\"\n",
    "\n",
    "Nep_par = 50\n",
    "Nep_com = 200"
   ]
  },
  {
   "cell_type": "code",
   "execution_count": 10,
   "metadata": {},
   "outputs": [
    {
     "name": "stdout",
     "output_type": "stream",
     "text": [
      "==========================================================================\n",
      "Cohort : robustness\n",
      "Method : beta\n",
      "Policy : vrmpc_fr\n",
      "Frame  : carl\n",
      "Flights: [('mid_gate', 'carl', 'robustness_track')]\n"
     ]
    },
    {
     "ename": "ValueError",
     "evalue": "too many values to unpack (expected 2)",
     "output_type": "error",
     "traceback": [
      "\u001b[0;31m---------------------------------------------------------------------------\u001b[0m",
      "\u001b[0;31mValueError\u001b[0m                                Traceback (most recent call last)",
      "Cell \u001b[0;32mIn[10], line 2\u001b[0m\n\u001b[1;32m      1\u001b[0m \u001b[38;5;66;03m# Generate Rollouts\u001b[39;00m\n\u001b[0;32m----> 2\u001b[0m \u001b[43mrg\u001b[49m\u001b[38;5;241;43m.\u001b[39;49m\u001b[43mgenerate_rollout_data\u001b[49m\u001b[43m(\u001b[49m\u001b[43mcohort\u001b[49m\u001b[43m,\u001b[49m\u001b[43mmethod\u001b[49m\u001b[43m,\u001b[49m\u001b[43mflights\u001b[49m\u001b[43m)\u001b[49m\n\u001b[1;32m      4\u001b[0m ps\u001b[38;5;241m.\u001b[39mplot_samples(cohort)\n",
      "File \u001b[0;32m~/StanfordMSL/SousVide/src/sousvide/synthesize/rollout_generator.py:87\u001b[0m, in \u001b[0;36mgenerate_rollout_data\u001b[0;34m(cohort_name, method_name, flights, Nro_sv)\u001b[0m\n\u001b[1;32m     84\u001b[0m \u001b[38;5;28mprint\u001b[39m(\u001b[38;5;124m\"\u001b[39m\u001b[38;5;124mFlights:\u001b[39m\u001b[38;5;124m\"\u001b[39m,flights)\n\u001b[1;32m     86\u001b[0m \u001b[38;5;66;03m# Generate rollouts for each course\u001b[39;00m\n\u001b[0;32m---> 87\u001b[0m \u001b[38;5;28;01mfor\u001b[39;00m scene,course \u001b[38;5;129;01min\u001b[39;00m flights:\n\u001b[1;32m     88\u001b[0m     \u001b[38;5;66;03m# Load course_config\u001b[39;00m\n\u001b[1;32m     89\u001b[0m     course_path \u001b[38;5;241m=\u001b[39m os\u001b[38;5;241m.\u001b[39mpath\u001b[38;5;241m.\u001b[39mjoin(workspace_path,\u001b[38;5;124m\"\u001b[39m\u001b[38;5;124mconfigs\u001b[39m\u001b[38;5;124m\"\u001b[39m,\u001b[38;5;124m\"\u001b[39m\u001b[38;5;124mcourse\u001b[39m\u001b[38;5;124m\"\u001b[39m,course\u001b[38;5;241m+\u001b[39m\u001b[38;5;124m\"\u001b[39m\u001b[38;5;124m.json\u001b[39m\u001b[38;5;124m\"\u001b[39m)\n\u001b[1;32m     91\u001b[0m     \u001b[38;5;28;01mwith\u001b[39;00m \u001b[38;5;28mopen\u001b[39m(course_path) \u001b[38;5;28;01mas\u001b[39;00m json_file:\n",
      "\u001b[0;31mValueError\u001b[0m: too many values to unpack (expected 2)"
     ]
    }
   ],
   "source": [
    "# Generate Rollouts\n",
    "rg.generate_rollout_data(cohort,method,flights)\n",
    "\n",
    "ps.plot_samples(cohort)"
   ]
  },
  {
   "cell_type": "code",
   "execution_count": null,
   "metadata": {},
   "outputs": [],
   "source": [
    "# Generate Observations for Datya Size Variation\n",
    "og.generate_observation_data(cohort,roster)"
   ]
  },
  {
   "cell_type": "code",
   "execution_count": null,
   "metadata": {},
   "outputs": [],
   "source": [
    "# Train the History Network\n",
    "tp.train_roster(cohort,roster,\"Parameter\",Nep_par,lim_sv=10)\n",
    "\n",
    "# Review Losses\n",
    "pl.plot_losses(cohort,roster,\"Parameter\")"
   ]
  },
  {
   "cell_type": "code",
   "execution_count": null,
   "metadata": {},
   "outputs": [],
   "source": [
    "# # Train the Command Network\n",
    "# tp.train_roster(cohort,roster,\"Commander\",Nep_com,lim_sv=10)\n",
    "\n",
    "# Review Losses\n",
    "pl.plot_losses(cohort,roster,\"Commander\")"
   ]
  },
  {
   "cell_type": "code",
   "execution_count": null,
   "metadata": {},
   "outputs": [],
   "source": [
    "# Simulate in Acados for Data Size Variation\n",
    "for scene,frame,course in flights:\n",
    "    sim = Simulator(scene,\"baseline\",)\n",
    "    # qs.simulate_roster(cohort,course,drone,\"alpha\",roster,nerf,Nsps=1)\n",
    "    # qs.simulate_roster(cohort,course,drone,\"beta\",roster,nerf,Nsps=10)\n",
    "    # qs.simulate_roster(cohort,course,drone,\"gamma\",roster,nerf,Nsps=10)\n",
    "    # qs.simulate_roster(cohort,course,drone,\"delta\",roster,nerf,Nsps=30)\n",
    "    # qs.simulate_roster(cohort,course,drone,\"epsilon\",roster,nerf,Nsps=10)"
   ]
  },
  {
   "cell_type": "code",
   "execution_count": null,
   "metadata": {},
   "outputs": [],
   "source": [
    "# Plot the results\n",
    "for course in courses:\n",
    "    pl.review_simulations(cohort,course,roster,plot_show=True)"
   ]
  }
 ],
 "metadata": {
  "kernelspec": {
   "display_name": "sv-env",
   "language": "python",
   "name": "python3"
  },
  "language_info": {
   "codemirror_mode": {
    "name": "ipython",
    "version": 3
   },
   "file_extension": ".py",
   "mimetype": "text/x-python",
   "name": "python",
   "nbconvert_exporter": "python",
   "pygments_lexer": "ipython3",
   "version": "3.10.16"
  }
 },
 "nbformat": 4,
 "nbformat_minor": 2
}
