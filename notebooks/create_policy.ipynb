{
 "cells": [
  {
   "cell_type": "code",
   "execution_count": null,
   "metadata": {},
   "outputs": [],
   "source": [
    "# Some useful settings for interactive work\n",
    "%load_ext autoreload\n",
    "%autoreload 2\n",
    "\n",
    "%matplotlib widget"
   ]
  },
  {
   "cell_type": "code",
   "execution_count": 7,
   "metadata": {},
   "outputs": [],
   "source": [
    "# Import the relevant modules\n",
    "import sousvide.synthesize.generate_data as gd\n",
    "# import sousvide.synthesize.nerf_utils as nf\n",
    "# import sousvide.dynamics.quadcopter_simulate as qs\n",
    "# import sousvide.instruct.train_policy as tp\n",
    "# import sousvide.visualize.plot_learning as pl\n",
    "# import sousvide.visualize.plot_synthesize as ps"
   ]
  },
  {
   "cell_type": "code",
   "execution_count": 8,
   "metadata": {},
   "outputs": [],
   "source": [
    "# Cohort Variables\n",
    "flights = [\n",
    "    (\"mid_gate\",\"robustness_track\"),\n",
    "    ]\n",
    "\n",
    "roster = [\n",
    "    \"Jester\",\n",
    "    ]\n",
    "\n",
    "drone = \"carl\"\n",
    "method = \"alpha\"\n",
    "cohort = \"robustness\""
   ]
  },
  {
   "cell_type": "code",
   "execution_count": null,
   "metadata": {},
   "outputs": [],
   "source": [
    "# Generate Rollouts\n",
    "gd.generate_rollout_data(cohort,method,flights)\n",
    "\n",
    "# ps.plot_samples(cohort)"
   ]
  },
  {
   "cell_type": "code",
   "execution_count": null,
   "metadata": {},
   "outputs": [],
   "source": [
    "# Generate Observations for Datya Size Variation\n",
    "gd.generate_observation_data(cohort,roster)\n",
    "# gd.generate_observation_data(cohort,roster,subsample=0.5)\n",
    "# gd.generate_observation_data(cohort,[\"Quarter\"],subsample=0.25)\n",
    "# gd.generate_observation_data(cohort,[\"Eighth\"],subsample=0.125)"
   ]
  },
  {
   "cell_type": "code",
   "execution_count": null,
   "metadata": {},
   "outputs": [],
   "source": [
    "# Train the History Network\n",
    "tp.train_roster(cohort,roster,\"Parameter\",Nep_par,lim_sv=10)\n",
    "\n",
    "# Review Losses\n",
    "pl.plot_losses(cohort,roster,\"Parameter\")"
   ]
  },
  {
   "cell_type": "code",
   "execution_count": null,
   "metadata": {},
   "outputs": [],
   "source": [
    "# Train the Odometry Network\n",
    "tp.train_roster(cohort,roster,\"Odometry\",Nep_odo,lim_sv=10)\n",
    "\n",
    "# Review Losses\n",
    "pl.plot_losses(cohort,roster,\"Odometry\")"
   ]
  },
  {
   "cell_type": "code",
   "execution_count": null,
   "metadata": {},
   "outputs": [],
   "source": [
    "# Train the Command Network\n",
    "tp.train_roster(cohort,roster,\"Commander\",Nep_com,lim_sv=10)\n",
    "\n",
    "# Review Losses\n",
    "pl.plot_losses(cohort,roster,\"Commander\")"
   ]
  },
  {
   "cell_type": "code",
   "execution_count": null,
   "metadata": {},
   "outputs": [],
   "source": [
    "# Simulate in Acados for Data Size Variation\n",
    "for course in courses:\n",
    "    # qs.simulate_roster(cohort,course,drone,\"alpha\",roster,nerf,Nsps=1)\n",
    "    # qs.simulate_roster(cohort,course,drone,\"beta\",roster,nerf,Nsps=10)\n",
    "    qs.simulate_roster(cohort,course,drone,\"gamma\",roster,nerf,Nsps=10)\n",
    "    # qs.simulate_roster(cohort,course,drone,\"delta\",roster,nerf,Nsps=30)\n",
    "    # qs.simulate_roster(cohort,course,drone,\"epsilon\",roster,nerf,Nsps=10)"
   ]
  },
  {
   "cell_type": "code",
   "execution_count": null,
   "metadata": {},
   "outputs": [],
   "source": [
    "# Plot the results\n",
    "for course in courses:\n",
    "    pl.review_simulations(cohort,course,roster,plot_show=True)"
   ]
  }
 ],
 "metadata": {
  "kernelspec": {
   "display_name": "sv-env",
   "language": "python",
   "name": "python3"
  },
  "language_info": {
   "codemirror_mode": {
    "name": "ipython",
    "version": 3
   },
   "file_extension": ".py",
   "mimetype": "text/x-python",
   "name": "python",
   "nbconvert_exporter": "python",
   "pygments_lexer": "ipython3",
   "version": "3.10.16"
  }
 },
 "nbformat": 4,
 "nbformat_minor": 2
}
