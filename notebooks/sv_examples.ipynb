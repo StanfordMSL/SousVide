{
 "cells": [
  {
   "cell_type": "code",
   "execution_count": 1,
   "metadata": {},
   "outputs": [],
   "source": [
    "# Some useful settings for interactive work\n",
    "%load_ext autoreload\n",
    "%autoreload 2\n",
    "\n",
    "%matplotlib widget"
   ]
  },
  {
   "cell_type": "code",
   "execution_count": 2,
   "metadata": {},
   "outputs": [
    {
     "name": "stderr",
     "output_type": "stream",
     "text": [
      "/home/admin/anaconda3/envs/sv-env/lib/python3.10/site-packages/albumentations/__init__.py:24: UserWarning: A new version of Albumentations is available: '2.0.1' (you have '2.0.0'). Upgrade using: pip install -U albumentations. To disable automatic update checks, set the environment variable NO_ALBUMENTATIONS_UPDATE to 1.\n",
      "  check_for_updates()\n"
     ]
    }
   ],
   "source": [
    "# Import the relevant modules\n",
    "import sousvide.synthesize.rollout_generator as rg\n",
    "import sousvide.synthesize.observation_generator as og\n",
    "import sousvide.instruct.train_policy as tp\n",
    "import sousvide.visualize.plot_synthesize as ps\n",
    "import sousvide.visualize.plot_learning as pl\n",
    "import sousvide.flight.deploy_figs as df"
   ]
  },
  {
   "cell_type": "code",
   "execution_count": 3,
   "metadata": {},
   "outputs": [],
   "source": [
    "# FiGS examples (scene_name, course_name)\n",
    "flights = [\n",
    "    ('mid_gate','robustness_track'),\n",
    "    ]\n",
    "\n",
    "roster = [\n",
    "    \"Viper\",        # HP-Net (non-visual policy)\n",
    "    \"Maverick\",     # SV-Net\n",
    "    \"Iceman\",       # SV-Net with Direct History (no latent encoding)\n",
    "    \"Hollywood\",    # SV-Net with no Pre-Training\n",
    "    \"Cougar\"        # SV-Net with no RMA\n",
    "    ]\n",
    "\n",
    "drone = \"carl\"\n",
    "method = \"beta\"\n",
    "cohort = \"robustness\"\n",
    "\n",
    "Nep_par = 50\n",
    "Nep_com = 200"
   ]
  },
  {
   "cell_type": "code",
   "execution_count": null,
   "metadata": {},
   "outputs": [
    {
     "name": "stdout",
     "output_type": "stream",
     "text": [
      "==========================================================================\n",
      "Cohort : robustness\n",
      "Method : alpha\n",
      "Policy : vrmpc_fr\n",
      "Frame  : carl\n",
      "Flights: [('mid_gate', 'robustness_track')]\n",
      "Jupyter environment detected. Enabling Open3D WebVisualizer.\n",
      "[Open3D INFO] WebRTC GUI backend enabled.\n",
      "[Open3D INFO] WebRTCWindowSystem: HTTP handshake server disabled.\n"
     ]
    },
    {
     "data": {
      "text/html": [
       "<pre style=\"white-space:pre;overflow-x:auto;line-height:normal;font-family:Menlo,'DejaVu Sans Mono',consolas,'Courier New',monospace\">Loading latest checkpoint from load_dir\n",
       "</pre>\n"
      ],
      "text/plain": [
       "Loading latest checkpoint from load_dir\n"
      ]
     },
     "metadata": {},
     "output_type": "display_data"
    },
    {
     "data": {
      "text/html": [
       "<pre style=\"white-space:pre;overflow-x:auto;line-height:normal;font-family:Menlo,'DejaVu Sans Mono',consolas,'Courier New',monospace\">✅ Done loading checkpoint from outputs/mid_gate/splatfacto/<span style=\"color: #008080; text-decoration-color: #008080; font-weight: bold\">2024</span>-<span style=\"color: #008080; text-decoration-color: #008080; font-weight: bold\">10</span>-07_145741/nerfstudio_models/step-<span style=\"color: #008080; text-decoration-color: #008080; font-weight: bold\">000029999.</span>ckpt\n",
       "</pre>\n"
      ],
      "text/plain": [
       "✅ Done loading checkpoint from outputs/mid_gate/splatfacto/\u001b[1;36m2024\u001b[0m-\u001b[1;36m10\u001b[0m-07_145741/nerfstudio_models/step-\u001b[1;36m000029999.\u001b[0mckpt\n"
      ]
     },
     "metadata": {},
     "output_type": "display_data"
    },
    {
     "name": "stdout",
     "output_type": "stream",
     "text": [
      "--------------------------------------------------------------------------\n",
      "Course Name : robustness_track\n",
      "Rollout Reps: 2 (per time point)\n",
      "Rollout Rate: 1 (per second)\n",
      "Rollout Data: 40 (per sample)\n",
      "--------------------------------------------------------------------------\n",
      "Total Rollouts: 30\n",
      "Batch Sizes : 0 x 50 + 1 x 30\n",
      "Total Data: 1200\n",
      "--------------------------------------------------------------------------\n"
     ]
    },
    {
     "data": {
      "application/vnd.jupyter.widget-view+json": {
       "model_id": "da8f7088b280414eb5f0e24a6e3e56d3",
       "version_major": 2,
       "version_minor": 0
      },
      "text/plain": [
       "  0%|          | 0/1 [00:00<?, ?it/s]"
      ]
     },
     "metadata": {},
     "output_type": "display_data"
    },
    {
     "name": "stderr",
     "output_type": "stream",
     "text": [
      "/home/admin/anaconda3/envs/sv-env/lib/python3.10/site-packages/torch/_inductor/compile_fx.py:135: UserWarning: TensorFloat32 tensor cores for float32 matrix multiplication available but not enabled. Consider setting `torch.set_float32_matmul_precision('high')` for better performance.\n",
      "  warnings.warn(\n"
     ]
    }
   ],
   "source": [
    "# Generate Rollouts\n",
    "rg.generate_rollout_data(cohort,method,flights)\n",
    "\n",
    "ps.plot_samples(cohort)"
   ]
  },
  {
   "cell_type": "code",
   "execution_count": null,
   "metadata": {},
   "outputs": [],
   "source": [
    "# Generate Observations for Datya Size Variation\n",
    "og.generate_observation_data(cohort,roster)"
   ]
  },
  {
   "cell_type": "code",
   "execution_count": null,
   "metadata": {},
   "outputs": [],
   "source": [
    "# Train the History Network\n",
    "tp.train_roster(cohort,roster,\"Parameter\",Nep_par,lim_sv=10)\n",
    "\n",
    "# Review Losses\n",
    "pl.plot_losses(cohort,roster,\"Parameter\")"
   ]
  },
  {
   "cell_type": "code",
   "execution_count": null,
   "metadata": {},
   "outputs": [],
   "source": [
    "# Train the Command Network\n",
    "tp.train_roster(cohort,roster,\"Commander\",Nep_com,lim_sv=10)\n",
    "\n",
    "# Review Losses\n",
    "pl.plot_losses(cohort,roster,\"Commander\")"
   ]
  },
  {
   "cell_type": "code",
   "execution_count": null,
   "metadata": {},
   "outputs": [],
   "source": [
    "# Simulate in FiGS\n",
    "for scene,course in flights:\n",
    "    df.simulate_roster(cohort,method,scene,course,roster)\n",
    "\n",
    "# Plot the results\n",
    "for _,course in flights:\n",
    "    pl.review_simulations(cohort,course,roster,plot_show=True)"
   ]
  }
 ],
 "metadata": {
  "kernelspec": {
   "display_name": "sv-env",
   "language": "python",
   "name": "python3"
  },
  "language_info": {
   "codemirror_mode": {
    "name": "ipython",
    "version": 3
   },
   "file_extension": ".py",
   "mimetype": "text/x-python",
   "name": "python",
   "nbconvert_exporter": "python",
   "pygments_lexer": "ipython3",
   "version": "3.10.16"
  }
 },
 "nbformat": 4,
 "nbformat_minor": 2
}
