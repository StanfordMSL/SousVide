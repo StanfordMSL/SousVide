{
 "cells": [
  {
   "cell_type": "code",
   "execution_count": 1,
   "metadata": {},
   "outputs": [],
   "source": [
    "# Some useful settings for interactive work\n",
    "%load_ext autoreload\n",
    "%autoreload 2\n",
    "\n",
    "%matplotlib widget"
   ]
  },
  {
   "cell_type": "code",
   "execution_count": 2,
   "metadata": {},
   "outputs": [
    {
     "name": "stderr",
     "output_type": "stream",
     "text": [
      "/home/admin/anaconda3/envs/sv-env/lib/python3.10/site-packages/albumentations/__init__.py:24: UserWarning: A new version of Albumentations is available: '2.0.1' (you have '2.0.0'). Upgrade using: pip install -U albumentations. To disable automatic update checks, set the environment variable NO_ALBUMENTATIONS_UPDATE to 1.\n",
      "  check_for_updates()\n"
     ]
    }
   ],
   "source": [
    "# Import the relevant modules\n",
    "import sousvide.synthesize.rollout_generator as rg\n",
    "import sousvide.synthesize.observation_generator as og\n",
    "import sousvide.instruct.train_policy as tp\n",
    "import sousvide.visualize.plot_synthesize as ps\n",
    "import sousvide.visualize.plot_learning as pl\n",
    "import sousvide.flight.deploy_figs as df"
   ]
  },
  {
   "cell_type": "code",
   "execution_count": 8,
   "metadata": {},
   "outputs": [],
   "source": [
    "# FiGS examples (scene_name, course_name)\n",
    "flights = [\n",
    "    ('mid_gate','robustness_track'),\n",
    "    ]\n",
    "\n",
    "roster = [\n",
    "    \"Viper\",        # HP-Net (non-visual policy)\n",
    "    \"Maverick\",     # SV-Net\n",
    "    \"Iceman\",       # SV-Net with Direct History (no latent encoding)\n",
    "    \"Hollywood\",    # SV-Net with no Pre-Training\n",
    "    \"Cougar\"        # SV-Net with no RMA\n",
    "    ]\n",
    "\n",
    "drone = \"carl\"\n",
    "method = \"beta\"\n",
    "cohort = \"robustness\"\n",
    "\n",
    "Nep_par = 50\n",
    "Nep_com = 200"
   ]
  },
  {
   "cell_type": "code",
   "execution_count": null,
   "metadata": {},
   "outputs": [],
   "source": [
    "# Generate Rollouts\n",
    "rg.generate_rollout_data(cohort,method,flights)\n",
    "\n",
    "ps.plot_samples(cohort)"
   ]
  },
  {
   "cell_type": "code",
   "execution_count": 5,
   "metadata": {},
   "outputs": [
    {
     "name": "stdout",
     "output_type": "stream",
     "text": [
      "==========================================================================================\n",
      "------------------------------------------------------------------------------------------\n",
      "Pilot Name  : Viper\n",
      "Augmentation: [0.0, 0.0, 0.0, 0.0, 0.0, 0.0, 0.0, 0.0, 0.0, 0.0]\n",
      "            :                        +/-\n",
      "            : [0.0, 0.0, 0.0, 0.0, 0.0, 0.0, 0.0, 0.0, 0.0, 0.0]\n",
      "Subsample   : 1 in 1\n",
      "Model ------------------------------------------------------------------------------------\n",
      "Name        : HPNet\n",
      "Components  : HistoryEncoder,CommandHP\n",
      "------------------------------------------------------------------------------------------\n",
      "Data Counts ------------------------------------------------------------------------------\n",
      "Extracted 180000 observations from 1 course(s).\n",
      "==========================================================================================\n",
      "------------------------------------------------------------------------------------------\n",
      "Pilot Name  : Maverick\n",
      "Augmentation: [0.0, 0.0, 0.0, 0.0, 0.0, 0.0, 0.0, 0.0, 0.0, 0.0]\n",
      "            :                        +/-\n",
      "            : [0.0, 0.0, 0.0, 0.0, 0.0, 0.0, 0.0, 0.0, 0.0, 0.0]\n",
      "Subsample   : 1 in 1\n",
      "Model ------------------------------------------------------------------------------------\n",
      "Name        : SVNet\n",
      "Components  : HistoryEncoder,VisionMLP,CommanderSV\n",
      "------------------------------------------------------------------------------------------\n",
      "Data Counts ------------------------------------------------------------------------------\n",
      "Extracted 180000 observations from 1 course(s).\n",
      "==========================================================================================\n",
      "------------------------------------------------------------------------------------------\n",
      "Pilot Name  : Iceman\n",
      "Augmentation: [0.0, 0.0, 0.0, 0.0, 0.0, 0.0, 0.0, 0.0, 0.0, 0.0]\n",
      "            :                        +/-\n",
      "            : [0.0, 0.0, 0.0, 0.0, 0.0, 0.0, 0.0, 0.0, 0.0, 0.0]\n",
      "Subsample   : 1 in 1\n",
      "Model ------------------------------------------------------------------------------------\n",
      "Name        : SVNetDirect\n",
      "Components  : HistoryEncoder,VisionMLP,CommanderSV\n",
      "------------------------------------------------------------------------------------------\n",
      "Data Counts ------------------------------------------------------------------------------\n",
      "Extracted 180000 observations from 1 course(s).\n",
      "==========================================================================================\n",
      "------------------------------------------------------------------------------------------\n",
      "Pilot Name  : Hollywood\n",
      "Augmentation: [0.0, 0.0, 0.0, 0.0, 0.0, 0.0, 0.0, 0.0, 0.0, 0.0]\n",
      "            :                        +/-\n",
      "            : [0.0, 0.0, 0.0, 0.0, 0.0, 0.0, 0.0, 0.0, 0.0, 0.0]\n",
      "Subsample   : 1 in 1\n",
      "Model ------------------------------------------------------------------------------------\n",
      "Name        : SVNetNoPreTrain\n",
      "Components  : HistoryEncoder,VisionMLP,CommanderSV\n",
      "------------------------------------------------------------------------------------------\n",
      "Data Counts ------------------------------------------------------------------------------\n",
      "Extracted 180000 observations from 1 course(s).\n",
      "==========================================================================================\n",
      "------------------------------------------------------------------------------------------\n",
      "Pilot Name  : Cougar\n",
      "Augmentation: [0.0, 0.0, 0.0, 0.0, 0.0, 0.0, 0.0, 0.0, 0.0, 0.0]\n",
      "            :                        +/-\n",
      "            : [0.0, 0.0, 0.0, 0.0, 0.0, 0.0, 0.0, 0.0, 0.0, 0.0]\n",
      "Subsample   : 1 in 1\n",
      "Model ------------------------------------------------------------------------------------\n",
      "Name        : SVNetNoRMA\n",
      "Components  : VisionMLP,CommanderDF\n",
      "------------------------------------------------------------------------------------------\n",
      "Data Counts ------------------------------------------------------------------------------\n",
      "Extracted 180000 observations from 1 course(s).\n",
      "==========================================================================================\n"
     ]
    }
   ],
   "source": [
    "# Generate Observations for Datya Size Variation\n",
    "og.generate_observation_data(cohort,roster)"
   ]
  },
  {
   "cell_type": "code",
   "execution_count": 6,
   "metadata": {},
   "outputs": [
    {
     "name": "stdout",
     "output_type": "stream",
     "text": [
      "Training Student:  Viper\n",
      "Training new network.\n"
     ]
    },
    {
     "data": {
      "application/vnd.jupyter.widget-view+json": {
       "model_id": "5323e03fd5d74943a745e02c1e7eb61d",
       "version_major": 2,
       "version_minor": 0
      },
      "text/plain": [
       "  0%|          | 0/50 [00:00<?, ?it/s]"
      ]
     },
     "metadata": {},
     "output_type": "display_data"
    },
    {
     "name": "stdout",
     "output_type": "stream",
     "text": [
      "Training Student:  Maverick\n",
      "Training new network.\n"
     ]
    },
    {
     "data": {
      "application/vnd.jupyter.widget-view+json": {
       "model_id": "de80e9874cb249289e13e7c3627e8c98",
       "version_major": 2,
       "version_minor": 0
      },
      "text/plain": [
       "  0%|          | 0/50 [00:00<?, ?it/s]"
      ]
     },
     "metadata": {},
     "output_type": "display_data"
    },
    {
     "name": "stdout",
     "output_type": "stream",
     "text": [
      "Training Student:  Iceman\n",
      "Training new network.\n"
     ]
    },
    {
     "data": {
      "application/vnd.jupyter.widget-view+json": {
       "model_id": "1a58088a0cfb4366a44e4574cabeebc8",
       "version_major": 2,
       "version_minor": 0
      },
      "text/plain": [
       "  0%|          | 0/50 [00:00<?, ?it/s]"
      ]
     },
     "metadata": {},
     "output_type": "display_data"
    },
    {
     "name": "stdout",
     "output_type": "stream",
     "text": [
      "--------------------------------------------------------------------------\n",
      "Hollywood has no model for Parameter\n",
      "--------------------------------------------------------------------------\n",
      "--------------------------------------------------------------------------\n",
      "Cougar has no model for Parameter\n",
      "--------------------------------------------------------------------------\n",
      "=====================================================\n",
      "Network Type:  Parameter\n",
      "Cohort:   robustness\n",
      "-----------------------------------------------------\n",
      "Student: Viper\n",
      "Epochs : 50\n",
      "Samples: 178000\n",
      "t_train: 0.0 hour(s), 16.0 minute(s), 58.3 second(s)\n",
      "-----------------------------------------------------\n",
      "Student: Maverick\n",
      "Epochs : 50\n",
      "Samples: 178000\n",
      "t_train: 1.0 hour(s), 25.0 minute(s), 59.9 second(s)\n",
      "-----------------------------------------------------\n",
      "Student: Iceman\n",
      "Epochs : 50\n",
      "Samples: 178000\n",
      "t_train: 1.0 hour(s), 25.0 minute(s), 43.2 second(s)\n",
      "-----------------------------------------------------\n",
      "No Parameter network found for Hollywood\n",
      "-----------------------------------------------------\n",
      "-----------------------------------------------------\n",
      "No Parameter network found for Cougar\n",
      "-----------------------------------------------------\n"
     ]
    },
    {
     "data": {
      "application/vnd.jupyter.widget-view+json": {
       "model_id": "0102d2c27bee40f7816ddcd01b5f8fc0",
       "version_major": 2,
       "version_minor": 0
      },
      "image/png": "[encoded data removed]",
      "text/html": [
       "\n",
       "            <div style=\"display: inline-block;\">\n",
       "                <div class=\"jupyter-widgets widget-label\" style=\"text-align: center;\">\n",
       "                    Figure\n",
       "                </div>\n",
       "                <img src='data:image/png;base64,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' width=500.0/>\n",
       "            </div>\n",
       "        "
      ],
      "text/plain": [
       "Canvas(toolbar=Toolbar(toolitems=[('Home', 'Reset original view', 'home', 'home'), ('Back', 'Back to previous …"
      ]
     },
     "metadata": {},
     "output_type": "display_data"
    }
   ],
   "source": [
    "# Train the History Network\n",
    "tp.train_roster(cohort,roster,\"Parameter\",Nep_par,lim_sv=10)\n",
    "\n",
    "# Review Losses\n",
    "pl.plot_losses(cohort,roster,\"Parameter\")"
   ]
  },
  {
   "cell_type": "code",
   "execution_count": 7,
   "metadata": {},
   "outputs": [
    {
     "name": "stdout",
     "output_type": "stream",
     "text": [
      "Training Student:  Hollywood\n",
      "Re-training existing network.\n",
      "Previous Epochs:  30 [30]\n"
     ]
    },
    {
     "data": {
      "application/vnd.jupyter.widget-view+json": {
       "model_id": "27d418acbb8c47c69d7fb2dfd11c9640",
       "version_major": 2,
       "version_minor": 0
      },
      "text/plain": [
       "  0%|          | 0/170 [00:00<?, ?it/s]"
      ]
     },
     "metadata": {},
     "output_type": "display_data"
    }
   ],
   "source": [
    "# Train the Command Network\n",
    "tp.train_roster(cohort,roster,\"Commander\",Nep_com,lim_sv=10)\n",
    "\n",
    "# Review Losses\n",
    "pl.plot_losses(cohort,roster,\"Commander\")"
   ]
  },
  {
   "cell_type": "code",
   "execution_count": null,
   "metadata": {},
   "outputs": [],
   "source": [
    "# Simulate in FiGS\n",
    "for scene,course in flights:\n",
    "    df.simulate_roster(cohort,method,scene,course,roster)\n",
    "\n",
    "# Plot the results\n",
    "for _,course in flights:\n",
    "    pl.review_simulations(cohort,course,roster,plot_show=True)"
   ]
  }
 ],
 "metadata": {
  "kernelspec": {
   "display_name": "sv-env",
   "language": "python",
   "name": "python3"
  },
  "language_info": {
   "codemirror_mode": {
    "name": "ipython",
    "version": 3
   },
   "file_extension": ".py",
   "mimetype": "text/x-python",
   "name": "python",
   "nbconvert_exporter": "python",
   "pygments_lexer": "ipython3",
   "version": "3.10.16"
  }
 },
 "nbformat": 4,
 "nbformat_minor": 2
}
