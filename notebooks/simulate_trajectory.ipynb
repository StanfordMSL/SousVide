{
 "cells": [
  {
   "cell_type": "code",
   "execution_count": 1,
   "metadata": {},
   "outputs": [],
   "source": [
    "# Some useful settings for interactive work\n",
    "%load_ext autoreload\n",
    "%autoreload 2\n",
    "\n",
    "%matplotlib widget"
   ]
  },
  {
   "cell_type": "code",
   "execution_count": 2,
   "metadata": {},
   "outputs": [],
   "source": [
    "# Importing the necessary libraries\n",
    "import figs.visualize.plot_trajectories as pt\n",
    "import figs.visualize.generate_videos as gv\n",
    "\n",
    "from figs.simulator import Simulator\n",
    "from figs.control.vehicle_rate_mpc import VehicleRateMPC"
   ]
  },
  {
   "cell_type": "code",
   "execution_count": 3,
   "metadata": {},
   "outputs": [],
   "source": [
    "# FiGS examples (scene_name, rollout_name, frame_name, course_name)\n",
    "examples = [\n",
    "    ('flightroom', 'baseline', 'carl', 'extended_traj_track'),\n",
    "    ('backroom',   'baseline', 'carl', 'cluttered_env_track'),\n",
    "    ('mid_gate',   'baseline', 'carl', 'robustness_track'),\n",
    "    ('src_open',   'baseline', 'carl', 'infinity')\n",
    "]"
   ]
  },
  {
   "cell_type": "code",
   "execution_count": null,
   "metadata": {},
   "outputs": [
    {
     "name": "stdout",
     "output_type": "stream",
     "text": [
      "=============================================================\n",
      "Simulating flightroom scene with extended_traj_track course\n",
      "-------------------------------------------------------------\n",
      "Jupyter environment detected. Enabling Open3D WebVisualizer.\n",
      "[Open3D INFO] WebRTC GUI backend enabled.\n",
      "[Open3D INFO] WebRTCWindowSystem: HTTP handshake server disabled.\n"
     ]
    },
    {
     "data": {
      "text/html": [
       "<pre style=\"white-space:pre;overflow-x:auto;line-height:normal;font-family:Menlo,'DejaVu Sans Mono',consolas,'Courier New',monospace\">Loading latest checkpoint from load_dir\n",
       "</pre>\n"
      ],
      "text/plain": [
       "Loading latest checkpoint from load_dir\n"
      ]
     },
     "metadata": {},
     "output_type": "display_data"
    },
    {
     "data": {
      "text/html": [
       "<pre style=\"white-space:pre;overflow-x:auto;line-height:normal;font-family:Menlo,'DejaVu Sans Mono',consolas,'Courier New',monospace\">✅ Done loading checkpoint from outputs/flightroom/splatfacto/<span style=\"color: #008080; text-decoration-color: #008080; font-weight: bold\">2024</span>-<span style=\"color: #008080; text-decoration-color: #008080; font-weight: bold\">07</span>-12_145513/nerfstudio_models/step-<span style=\"color: #008080; text-decoration-color: #008080; font-weight: bold\">000029999.</span>ckpt\n",
       "</pre>\n"
      ],
      "text/plain": [
       "✅ Done loading checkpoint from outputs/flightroom/splatfacto/\u001b[1;36m2024\u001b[0m-\u001b[1;36m07\u001b[0m-12_145513/nerfstudio_models/step-\u001b[1;36m000029999.\u001b[0mckpt\n"
      ]
     },
     "metadata": {},
     "output_type": "display_data"
    },
    {
     "name": "stderr",
     "output_type": "stream",
     "text": [
      "/home/admin/anaconda3/envs/sv-env/lib/python3.10/site-packages/torch/_inductor/compile_fx.py:135: UserWarning: TensorFloat32 tensor cores for float32 matrix multiplication available but not enabled. Consider setting `torch.set_float32_matmul_precision('high')` for better performance.\n",
      "  warnings.warn(\n",
      "IMAGEIO FFMPEG_WRITER WARNING: input image is not divisible by macro_block_size=16, resizing from (640, 360) to (640, 368) to ensure video compatibility with most codecs and players. To prevent resizing, make your input image divisible by the macro_block_size or set the macro_block_size to 1 (risking incompatibility).\n"
     ]
    }
   ],
   "source": [
    "for scene, rollout, frame, course in examples:\n",
    "    print(\"=============================================================\")\n",
    "    print(f\"Simulating {scene} scene with {course} course\")\n",
    "    print(\"-------------------------------------------------------------\")\n",
    "\n",
    "    # Load the policy and simulator\n",
    "    sim = Simulator(scene,rollout,frame)\n",
    "    policy = VehicleRateMPC(course)\n",
    "\n",
    "    # Use the ideal trajectory in VehicleRateMPC to get initial conditions and final time\n",
    "    t0,tf,x0 = policy.tXUd[0,0],policy.tXUd[0,-1],policy.tXUd[1:11,0]\n",
    "\n",
    "    # Simulate the policy\n",
    "    Tro,Xro,Uro,Imgs,Tsol,_ = sim.simulate(policy,t0,tf,x0)\n",
    "\n",
    "    # Output the results\n",
    "    gv.images_to_mp4(Imgs,course+'_'+scene+'.mp4', policy.hz)       # Save the video\n",
    "    pt.plot_RO_spatial((Tro,Xro,Uro))                               # Plot the spatial trajectory\n",
    "\n",
    "    # Clear the memory of the policy to avoid improper re-initialization of ACADOS\n",
    "    del policy"
   ]
  }
 ],
 "metadata": {
  "kernelspec": {
   "display_name": "sv-env",
   "language": "python",
   "name": "python3"
  },
  "language_info": {
   "codemirror_mode": {
    "name": "ipython",
    "version": 3
   },
   "file_extension": ".py",
   "mimetype": "text/x-python",
   "name": "python",
   "nbconvert_exporter": "python",
   "pygments_lexer": "ipython3",
   "version": "3.10.16"
  }
 },
 "nbformat": 4,
 "nbformat_minor": 2
}
